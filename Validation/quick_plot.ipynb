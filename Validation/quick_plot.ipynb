{
 "cells": [
  {
   "cell_type": "markdown",
   "id": "2fdb205a-24d1-4119-a09b-59edbbe9bb40",
   "metadata": {},
   "source": [
    "# **Quick Plots**"
   ]
  },
  {
   "cell_type": "markdown",
   "id": "61d9fbf8-ecb7-4e0d-942d-ee25a968e6b6",
   "metadata": {},
   "source": [
    "## *Setup*"
   ]
  },
  {
   "cell_type": "markdown",
   "id": "6ede86c2-51a2-4720-b0e7-f755bf484a56",
   "metadata": {},
   "source": [
    "### Imports\n",
    "\n",
    "Minimal imports for plotting and what is needed to extract variables."
   ]
  },
  {
   "cell_type": "code",
   "execution_count": 1,
   "id": "942c3b2d-5a06-4fa7-b8ed-9186d5d46fb2",
   "metadata": {},
   "outputs": [],
   "source": [
    "from wrf import getvar, to_np, latlon_coords, get_cartopy\n",
    "from netCDF4 import Dataset #type: ignore\n",
    "import numpy as np\n",
    "import cartopy.crs as crs\n",
    "import matplotlib.pyplot as plt\n",
    "import cartopy.feature as cfeature\n",
    "from matplotlib.cm import get_cmap"
   ]
  },
  {
   "cell_type": "markdown",
   "id": "591926b8-9f18-4f4f-a601-c50e0664114e",
   "metadata": {},
   "source": [
    "### Variable List and Read-in\n",
    "\n",
    "Sets the list of variables to plot and reads-in the WRF file."
   ]
  },
  {
   "cell_type": "code",
   "execution_count": null,
   "id": "6706da94-ca03-4c41-a2eb-53c898944d52",
   "metadata": {},
   "outputs": [],
   "source": [
    "vari = ['EBIO_RES','EBIO_GEE','E_CO2','CO2_BIO','CO2_BCK','CO2_ANT']\n",
    "\n",
    "wrf_f = Dataset('./wrfout_d02_2023-07-21_18:00:00')"
   ]
  },
  {
   "cell_type": "markdown",
   "id": "b942323f-a4e0-448a-93f4-1d80295a4b34",
   "metadata": {},
   "source": [
    "## *Plotting*"
   ]
  },
  {
   "cell_type": "markdown",
   "id": "93f057e3-fda5-4660-9171-d1b36c706598",
   "metadata": {},
   "source": [
    "### Main Plot Loop\n",
    "\n",
    "Loops through the variable list to plot each variable. Converts flux variables from mol km<sup>-2</sup> hr<sup>-1</sup> to gC m<sup>-2</sup> day<sup>-1</sup>"
   ]
  },
  {
   "cell_type": "code",
   "execution_count": 14,
   "id": "74d68c2c-1d1d-44d8-bdc3-62154cd17ac4",
   "metadata": {},
   "outputs": [
    {
     "name": "stdout",
     "output_type": "stream",
     "text": [
      "EBIO_RES: min_v = 0.0, max_v = 41.24482\n",
      "EBIO_GEE: min_v = -74.94712, max_v = 0.0\n",
      "E_CO2: min_v = 0.0, max_v = 26352.715\n",
      "CO2_BIO: min_v = 403.2116, max_v = 411.2159\n",
      "CO2_BCK: min_v = 402.92795, max_v = 410.4399\n",
      "CO2_ANT: min_v = 403.16763, max_v = 516.4101\n"
     ]
    }
   ],
   "source": [
    "golden = (1. + np.sqrt(5.))/2.\n",
    "figsize = (12., 12./golden)\n",
    "\n",
    "for var in vari:\n",
    "    if var not in ['EBIO_RES','EBIO_GEE']:\n",
    "        v = getvar(wrf_f, var)[0,...]\n",
    "        #if var == 'E_CO2':\n",
    "         #   v = v * 0.00029\n",
    "    else:\n",
    "        v = getvar(wrf_f, var)# * 0.00029 #mol km^-2 hr^-1 -> gC m^-2 day^-1\n",
    "    lats, lons = latlon_coords(v)\n",
    "    cart_proj = get_cartopy(v)\n",
    "    if var in ['EBIO_RES','EBIO_GEE','E_CO2']:\n",
    "        v = v * 0.0029\n",
    "    min_v = np.min(v.data)\n",
    "    max_v = np.max(v.data)\n",
    "    print(f'{var}: {min_v = }, {max_v = }')\n",
    "    if var in ['EBIO_RES','EBIO_GEE','E_CO2']:\n",
    "        levels = np.linspace(min_v, max_v, num=12)\n",
    "        cbar_levels = np.linspace(min_v,max_v,num=12)\n",
    "    else:\n",
    "        levels = np.linspace(min_v, max_v, num=10)\n",
    "        cbar_levels = np.linspace(min_v,max_v,num=10)\n",
    "    fig, ax = plt.subplots(1,1, subplot_kw={'projection': cart_proj},figsize=figsize)\n",
    "    states = cfeature.STATES\n",
    "    ax.add_feature(states, linewidth=0.5, edgecolor='black')\n",
    "    contours = ax.contourf(to_np(lons), to_np(lats), to_np(v), levels=levels, cmap=plt.get_cmap('rainbow'), transform=crs.PlateCarree())\n",
    "    fig.colorbar(contours, ax=ax, orientation='horizontal', pad=0.05, ticks=cbar_levels, fraction=0.052, label=f'{var} {\"gC m^-2 day^-1\" if var in [\"EBIO_RES\",\"EBIO_GEE\",\"E_CO2\"] else \"ppmv\"}')\n",
    "    ax.set_title(f'{var} at 2023-07-21 18:00Z')\n",
    "    plt.savefig(f'{var}_2023-07-21_18z.png')\n",
    "    plt.close()"
   ]
  },
  {
   "cell_type": "code",
   "execution_count": null,
   "id": "aa8a67c2-5ed3-4017-ac8e-b93e0da887b6",
   "metadata": {},
   "outputs": [],
   "source": []
  }
 ],
 "metadata": {
  "kernelspec": {
   "display_name": "wrf",
   "language": "python",
   "name": "wrf"
  },
  "language_info": {
   "codemirror_mode": {
    "name": "ipython",
    "version": 3
   },
   "file_extension": ".py",
   "mimetype": "text/x-python",
   "name": "python",
   "nbconvert_exporter": "python",
   "pygments_lexer": "ipython3",
   "version": "3.11.9"
  }
 },
 "nbformat": 4,
 "nbformat_minor": 5
}
